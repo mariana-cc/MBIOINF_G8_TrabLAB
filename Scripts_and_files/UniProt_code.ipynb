{
 "cells": [
  {
   "cell_type": "markdown",
   "id": "1d679018-ae68-4c44-8083-fccb1b278334",
   "metadata": {},
   "source": [
    "--- Script fornecido pelo Grupo 7 e adaptado para o nosso trabalho ---"
   ]
  },
  {
   "cell_type": "markdown",
   "id": "b85e71ea-2c12-4974-9537-7c54040a165d",
   "metadata": {},
   "source": [
    "# *Klebsiella pneumoniae*"
   ]
  },
  {
   "cell_type": "markdown",
   "id": "1f44782a-1550-4a63-a461-0549b02626cb",
   "metadata": {},
   "source": [
    "## UniProt information"
   ]
  },
  {
   "cell_type": "code",
   "execution_count": 1,
   "id": "49c0f56d-95bf-4100-85f7-6b583dfbe766",
   "metadata": {},
   "outputs": [
    {
     "name": "stdin",
     "output_type": "stream",
     "text": [
      "Which gene are you looking for (KPC-2, CTX-M-14 or MdtC): CTX-M-14\n"
     ]
    },
    {
     "name": "stdout",
     "output_type": "stream",
     "text": [
      ">A0A0H3GXZ2_KLEPH | Klebsiella pneumoniae subsp. pneumoniae (strain HS11286).\n",
      "MMFAAAACIPLLLGSAPLYAQTSAVQQKLAALEKSSGGRLGVALIDTADNTQVLYRGDERFPMCSTSKVMAAAAVLKQSETQKQLLNQPVEIKPADLVNYNPIAEKHVNGTMTLAELSAAALQYSDNTAMNKLIAQLGGPGGVTAFARAIGDETFRLDRTEPTLNTAIPGDPRDTTTPRAMAQTLRQLTLGHALGETQRAQLVTWLKGNTTGAASIRAGLPTSWTVGDKTGSGDYGTTNDIAVIWPQGRAPLVLVTYFTQPQQNAESRRDVLASAARIIAEGL\n",
      "\n",
      "TAXONOMY: Bacteria | Proteobacteria | Gammaproteobacteria | Enterobacterales | Enterobacteriaceae | Klebsiella \n",
      "SEQUENCE LENGHT: 283\n",
      "SIMILARITY: Belongs to the class-A beta-lactamase family. \n",
      "KEYWORDS: Antibiotic resistance {ECO:0000256|ARBA:ARBA00023251, | ECO:0000256|RuleBase:RU361140} | Hydrolase | Plasmid | Reference proteome | Signal | \n"
     ]
    }
   ],
   "source": [
    "from Bio import ExPASy\n",
    "import Bio.SwissProt as sp\n",
    "\n",
    "while True:\n",
    "    try:\n",
    "        x = input(\"Which gene are you looking for (KPC-2, CTX-M-14 or MdtC):\")\n",
    "        if x not in [\"KPC-2\", \"CTX-M-14\", \"MdtC\"]: \n",
    "            raise ValueError(\"Inserted gene not valid!\")\n",
    "        break\n",
    "    except ValueError as error:\n",
    "        print(error)\n",
    "\n",
    "f = open(f\"{x}_UniProt.txt\")\n",
    "info = sp.read(f)\n",
    "print(f\">{info.entry_name} | {info.organism}\")\n",
    "print(info.sequence)\n",
    "\n",
    "taxonomia = ''.join(f\"{m} | \" for m in info.organism_classification)\n",
    "print(f\"\\nTAXONOMY: {taxonomia[:-2]}\")\n",
    "print(f\"SEQUENCE LENGHT: {info.sequence_length}\")\n",
    "\n",
    "#print(info.comments)\n",
    "for member in info.comments:\n",
    "    x = member.find(\"SIMILARITY\")\n",
    "    y = member.find(\"FUNCTION\")\n",
    "    z = member.find(\"SUBCELLULAR LOCATION\")\n",
    "    if y != -1: \n",
    "        function = member.split(\"{\")\n",
    "        print(function[0])\n",
    "    if x != -1: \n",
    "        similarity = member.split(\"{\")\n",
    "        print(similarity[0])\n",
    "    if z != -1:\n",
    "        sub_location = member.split(\"{\")\n",
    "        print(sub_location[0])\n",
    "\n",
    "keywords = ''.join(f\"{m} | \" for m in info.keywords)\n",
    "print(f\"KEYWORDS: {keywords}\")\n",
    "#print(info.features)"
   ]
  }
 ],
 "metadata": {
  "kernelspec": {
   "display_name": "Python 3",
   "language": "python",
   "name": "python3"
  },
  "language_info": {
   "codemirror_mode": {
    "name": "ipython",
    "version": 3
   },
   "file_extension": ".py",
   "mimetype": "text/x-python",
   "name": "python",
   "nbconvert_exporter": "python",
   "pygments_lexer": "ipython3",
   "version": "3.8.8"
  }
 },
 "nbformat": 4,
 "nbformat_minor": 5
}
