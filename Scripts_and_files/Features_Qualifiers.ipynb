{
 "cells": [
  {
   "cell_type": "markdown",
   "id": "3cce69f1-c323-4ff6-85fc-157a9ec8c5ee",
   "metadata": {},
   "source": [
    "## GenBank - Features e Qualifiers - Grupo 8"
   ]
  },
  {
   "cell_type": "code",
   "execution_count": 2,
   "id": "b5a86ff3-cded-4b4b-a884-ac0d1b9e048f",
   "metadata": {},
   "outputs": [],
   "source": [
    "from Bio import SeqIO "
   ]
  },
  {
   "cell_type": "code",
   "execution_count": 30,
   "id": "dd8b4b95-37ad-4f7d-9758-f750e8ea5969",
   "metadata": {},
   "outputs": [
    {
     "name": "stdin",
     "output_type": "stream",
     "text": [
      "Which gene information are you looking for (KPC-2, CTX-M-14 or MdtC): KPC-2\n"
     ]
    },
    {
     "name": "stdout",
     "output_type": "stream",
     "text": [
      "Sequência:  ATGTCACTGTATCGCCGTCTAGTTCTGCTGTCTTGTCTCTCATGGCCGCTGGCTGGCTTTTCTGCCACCGCGCTGACCAACCTCGTCGCGGAACCATTCGCTAAACTCGAACAGGACTTTGGCGGCTCCATCGGTGTGTACGCGATGGATACCGGCTCAGGCGCAACTGTAAGTTACCGCGCTGAGGAGCGCTTCCCACTGTGCAGCTCATTCAAGGGCTTTCTTGCTGCCGCTGTGCTGGCTCGCAGCCAGCAGCAGGCCGGCTTGCTGGACACACCCATCCGTTACGGCAAAAATGCGCTGGTTCCGTGGTCACCCATCTCGGAAAAATATCTGACAACAGGCATGACGGTGGCGGAGCTGTCCGCGGCCGCCGTGCAATACAGTGATAACGCCGCCGCCAATTTGTTGCTGAAGGAGTTGGGCGGCCCGGCCGGGCTGACGGCCTTCATGCGCTCTATCGGCGATACCACGTTCCGTCTGGACCGCTGGGAGCTGGAGCTGAACTCCGCCATCCCAGGCGATGCGCGCGATACCTCATCGCCGCGCGCCGTGACGGAAAGCTTACAAAAACTGACACTGGGCTCTGCACTGGCTGCGCCGCAGCGGCAGCAGTTTGTTGATTGGCTAAAGGGAAACACGACCGGCAACCACCGCATCCGCGCGGCGGTGCCGGCAGACTGGGCAGTCGGAGACAAAACCGGAACCTGCGGAGTGTATGGCACGGCAAATGACTATGCCGTCGTCTGGCCCACTGGGCGCGCACCTATTGTGTTGGCCGTCTACACCCGGGCGCCTAACAAGGATGACAAGCACAGCGAGGCCGTCATCGCCGCTGCGGCTAGACTCGCGCTCGAGGGATTGGGCGTCAACGGGCAGTAA\n",
      "ID:  NC_016846.1\n",
      "Nome:  NC_016846\n",
      "Descrição:  Klebsiella pneumoniae subsp. pneumoniae HS11286 plasmid pKPHS2, complete sequence\n",
      "Tamanho da sequência:  882\n",
      "Nº de anotações:  12\n",
      "Anotações:  {'molecule_type': 'DNA', 'topology': 'linear', 'data_file_division': 'CON', 'date': '03-AUG-2016', 'accessions': ['NC_016846', 'REGION:', '20557..21438'], 'sequence_version': 1, 'keywords': ['RefSeq'], 'source': 'Klebsiella pneumoniae subsp. pneumoniae HS11286', 'organism': 'Klebsiella pneumoniae subsp. pneumoniae HS11286', 'taxonomy': ['Bacteria', 'Proteobacteria', 'Gammaproteobacteria', 'Enterobacterales', 'Enterobacteriaceae', 'Klebsiella'], 'references': [Reference(title='Direct Submission', ...), Reference(title='Direct Submission', ...)], 'comment': 'REVIEWED REFSEQ: This record has been curated by NCBI staff. The\\nreference sequence is identical to CP003224.\\nRefSeq Category: Reference Genome\\n            CLI: Clinical Isolate\\nSource DNA is available from Hong-Yu Ou at hyou@sjtu.edu.cn.\\nCOMPLETENESS: full length.'}\n",
      "Taxonomia: ['Bacteria', 'Proteobacteria', 'Gammaproteobacteria', 'Enterobacterales', 'Enterobacteriaceae', 'Klebsiella']\n",
      "Organismo:  Klebsiella pneumoniae subsp. pneumoniae HS11286\n",
      "Tipo de molécula:  DNA\n"
     ]
    }
   ],
   "source": [
    "while True:\n",
    "    try:\n",
    "        x = input(\"Which gene information are you looking for (KPC-2, CTX-M-14 or MdtC):\")\n",
    "        if x not in [\"KPC-2\", \"CTX-M-14\", \"MdtC\"]: \n",
    "            raise ValueError(\"Inserted gene not valid!\")\n",
    "        break\n",
    "    except ValueError as error:\n",
    "        print(error)\n",
    "\n",
    "f = open(f\"{x}_GB.gb\")\n",
    "\n",
    "record = SeqIO.read(f, \"genbank\")\n",
    "print(\"Sequência: \",  record.seq) \n",
    "print(\"ID: \" , record.id)\n",
    "print(\"Nome: \", record.name)\n",
    "print(\"Descrição: \", record.description) \n",
    "print(\"Tamanho da sequência: \", len(record.seq))\n",
    "print(\"Nº de anotações: \" ,len(record.annotations))  \n",
    "print(\"Anotações: \", record.annotations)\n",
    "print(\"Taxonomia:\" , record.annotations[\"taxonomy\"])\n",
    "print(\"Organismo: \", record.annotations[\"source\"]) \n",
    "print(\"Tipo de molécula: \", record.annotations[\"molecule_type\"])"
   ]
  },
  {
   "cell_type": "code",
   "execution_count": 26,
   "id": "80db81ea-2398-4caa-ba68-0d5e81afb1a9",
   "metadata": {},
   "outputs": [
    {
     "name": "stdout",
     "output_type": "stream",
     "text": [
      "------- Features -------\n",
      "Número de features:  3\n",
      "Features:  [SeqFeature(FeatureLocation(ExactPosition(0), ExactPosition(852), strand=1), type='source'), SeqFeature(FeatureLocation(ExactPosition(0), ExactPosition(852), strand=1), type='gene'), SeqFeature(FeatureLocation(ExactPosition(0), ExactPosition(852), strand=1), type='CDS')]\n"
     ]
    }
   ],
   "source": [
    "print(\"------- Features -------\")\n",
    "print(\"Número de features: \", len(record.features)) \n",
    "print(\"Features: \", record.features)  "
   ]
  },
  {
   "cell_type": "code",
   "execution_count": 24,
   "id": "2880be0d-f7f2-451c-85dd-dd5a7a1a4c2b",
   "metadata": {},
   "outputs": [
    {
     "name": "stdout",
     "output_type": "stream",
     "text": [
      "type: source\n",
      "location: [0:852](+)\n",
      "qualifiers:\n",
      "    Key: db_xref, Value: ['taxon:1125630']\n",
      "    Key: mol_type, Value: ['genomic DNA']\n",
      "    Key: organism, Value: ['Klebsiella pneumoniae subsp. pneumoniae HS11286']\n",
      "    Key: plasmid, Value: ['pKPHS1']\n",
      "    Key: strain, Value: ['HS11286']\n",
      "    Key: sub_species, Value: ['pneumoniae']\n",
      "\n",
      "type: gene\n",
      "location: [0:852](+)\n",
      "qualifiers:\n",
      "    Key: db_xref, Value: ['GeneID:11817930']\n",
      "    Key: locus_tag, Value: ['KPHS_p100340']\n",
      "\n",
      "type: CDS\n",
      "location: [0:852](+)\n",
      "qualifiers:\n",
      "    Key: codon_start, Value: ['1']\n",
      "    Key: db_xref, Value: ['GeneID:11817930']\n",
      "    Key: locus_tag, Value: ['KPHS_p100340']\n",
      "    Key: product, Value: ['beta-lactamase CTX-M-14']\n",
      "    Key: protein_id, Value: ['YP_005220841.1']\n",
      "    Key: transl_table, Value: ['11']\n",
      "    Key: translation, Value: ['MMFAAAACIPLLLGSAPLYAQTSAVQQKLAALEKSSGGRLGVALIDTADNTQVLYRGDERFPMCSTSKVMAAAAVLKQSETQKQLLNQPVEIKPADLVNYNPIAEKHVNGTMTLAELSAAALQYSDNTAMNKLIAQLGGPGGVTAFARAIGDETFRLDRTEPTLNTAIPGDPRDTTTPRAMAQTLRQLTLGHALGETQRAQLVTWLKGNTTGAASIRAGLPTSWTVGDKTGSGDYGTTNDIAVIWPQGRAPLVLVTYFTQPQQNAESRRDVLASAARIIAEGL']\n",
      "\n"
     ]
    }
   ],
   "source": [
    "for feature in record.features:\n",
    "    print (feature)"
   ]
  },
  {
   "cell_type": "code",
   "execution_count": 28,
   "id": "7032adee-f0d3-46d2-b411-cdbeb7f9747d",
   "metadata": {},
   "outputs": [
    {
     "name": "stdout",
     "output_type": "stream",
     "text": [
      "------- Tipo e localização das features -------\n",
      "{'Tipo': {'CDS', 'source', 'gene'}, 'Localização': {'[0:852](+)'}}\n"
     ]
    }
   ],
   "source": [
    "print(\"------- Tipo e localização das features -------\")\n",
    "lista = {}\n",
    "lista[\"Tipo\"] = set()\n",
    "lista[\"Localização\"] = set()\n",
    "for feat in record.features:  \n",
    "    lista[\"Tipo\"].add(str(feat.type))\n",
    "    lista[\"Localização\"].add(str(feat.location))\n",
    "print(lista) "
   ]
  },
  {
   "cell_type": "code",
   "execution_count": 29,
   "id": "6eaf8ca8-6556-43ee-894a-f8bfc3963388",
   "metadata": {},
   "outputs": [
    {
     "name": "stdout",
     "output_type": "stream",
     "text": [
      "------- Qualifiers -------\n",
      "source None ['taxon:1125630']\n",
      "gene None ['GeneID:11817930']\n",
      "CDS None ['GeneID:11817930']\n"
     ]
    }
   ],
   "source": [
    "print(\"------- Qualifiers -------\")\n",
    "for feature in record.features:\n",
    "    print(\"%s %s %s\" % (feature.type, feature.qualifiers.get(\"note\"), feature.qualifiers.get(\"db_xref\")))"
   ]
  }
 ],
 "metadata": {
  "kernelspec": {
   "display_name": "Python 3",
   "language": "python",
   "name": "python3"
  },
  "language_info": {
   "codemirror_mode": {
    "name": "ipython",
    "version": 3
   },
   "file_extension": ".py",
   "mimetype": "text/x-python",
   "name": "python",
   "nbconvert_exporter": "python",
   "pygments_lexer": "ipython3",
   "version": "3.8.8"
  }
 },
 "nbformat": 4,
 "nbformat_minor": 5
}
